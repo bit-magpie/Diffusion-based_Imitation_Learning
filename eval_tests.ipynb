{
 "cells": [
  {
   "cell_type": "code",
   "execution_count": 1,
   "metadata": {},
   "outputs": [],
   "source": [
    "import numpy as np\n",
    "import matplotlib.pyplot as plt\n",
    "import os\n",
    "from torch.utils.data import Dataset, DataLoader\n",
    "from torchvision import transforms\n",
    "import torch"
   ]
  },
  {
   "cell_type": "code",
   "execution_count": 3,
   "metadata": {},
   "outputs": [],
   "source": [
    "class LineFollowDataset(Dataset):\n",
    "    def __init__(\n",
    "        self, DATASET_PATH, transform=None, train_or_test=\"train\", train_prop=0.90\n",
    "    ):\n",
    "        self.DATASET_PATH = DATASET_PATH\n",
    "        # just load it all into RAM\n",
    "        self.images = np.load(os.path.join(DATASET_PATH, \"imgs.npy\"), allow_pickle=True)\n",
    "        self.actions = np.load(os.path.join(DATASET_PATH, \"pts.npy\"), allow_pickle=True)\n",
    "        self.transform = transform\n",
    "        n_train = int(self.actions.shape[0] * train_prop)\n",
    "        if train_or_test == \"train\":\n",
    "            self.actions = self.actions[:n_train]\n",
    "        elif train_or_test == \"test\":\n",
    "            self.actions = self.actions[n_train:]\n",
    "        else:\n",
    "            raise NotImplementedError\n",
    "\n",
    "        # normalise actions and images to range [0,1]\n",
    "        # self.actions = self.actions / 500.0\n",
    "        # self.images = self.images / 255.0\n",
    "\n",
    "    def __len__(self):\n",
    "        return self.actions.shape[0]\n",
    "\n",
    "    def __getitem__(self, index):\n",
    "        action = self.actions[index] \n",
    "        image = self.images[int(action[0])]\n",
    "        action = action[1:]\n",
    "        \n",
    "        if self.transform:\n",
    "            image = self.transform(image)\n",
    "        return (image, action)"
   ]
  },
  {
   "cell_type": "code",
   "execution_count": null,
   "metadata": {},
   "outputs": [],
   "source": [
    "DATASET_PATH = \"datasets/line_follow/\"\n",
    "tf = transforms.Compose([])\n",
    "\n",
    "torch_data_train = LineFollowDataset(\n",
    "        DATASET_PATH, transform=tf, train_or_test=\"train\", train_prop=0.90\n",
    "    )"
   ]
  },
  {
   "cell_type": "code",
   "execution_count": 7,
   "metadata": {},
   "outputs": [],
   "source": [
    "from diff_model import (\n",
    "    Model_cnn_mlp,\n",
    "    Model_Cond_Diffusion,\n",
    ")\n",
    "\n",
    "from sklearn.neighbors import KernelDensity\n",
    "\n",
    "n_epoch = 100\n",
    "lrate = 1e-4\n",
    "device = \"cuda\"\n",
    "n_hidden = 512\n",
    "batch_size = 32\n",
    "n_T = 50\n",
    "net_type = \"transformer\"\n",
    "\n",
    "# x_shape = torch_data_train.images[0].shape\n",
    "# y_dim = torch_data_train.actions.shape[1] - 1\n",
    "\n",
    "x_shape = torch_data_train.images[0].shape\n",
    "y_dim = torch_data_train.actions.shape[1]"
   ]
  },
  {
   "cell_type": "code",
   "execution_count": 8,
   "metadata": {},
   "outputs": [],
   "source": [
    "nn_model = Model_cnn_mlp(\n",
    "    x_shape, n_hidden, y_dim, embed_dim=128, net_type=net_type\n",
    ").to(device)\n",
    "model = Model_Cond_Diffusion(\n",
    "    nn_model,\n",
    "    betas=(1e-4, 0.02),\n",
    "    n_T=n_T,\n",
    "    device=device,\n",
    "    x_dim=x_shape,\n",
    "    y_dim=y_dim,\n",
    "    drop_prob=0.1,\n",
    "    guide_w=0.0,\n",
    ")"
   ]
  },
  {
   "cell_type": "code",
   "execution_count": 49,
   "metadata": {},
   "outputs": [
    {
     "data": {
      "text/plain": [
       "<All keys matched successfully>"
      ]
     },
     "execution_count": 49,
     "metadata": {},
     "output_type": "execute_result"
    }
   ],
   "source": [
    "checkpoint = torch.load(\"diff_weights/trained_model.pt\", weights_only=True)\n",
    "model.load_state_dict(checkpoint)"
   ]
  },
  {
   "cell_type": "code",
   "execution_count": 10,
   "metadata": {},
   "outputs": [],
   "source": [
    "def predict(model, x_eval):\n",
    "    model.eval()\n",
    "    use_kde = False\n",
    "    \n",
    "    with torch.set_grad_enabled(False):\n",
    "        # if extra_diffusion_step == 0:\n",
    "        y_pred_ = (\n",
    "            model.sample(x_eval, extract_embedding=True)\n",
    "            .detach()\n",
    "            .cpu()\n",
    "            .numpy()\n",
    "        )\n",
    "\n",
    "        if use_kde:\n",
    "            # kde\n",
    "            torch_obs_many = x_eval\n",
    "            action_pred_many = model.sample(torch_obs_many).cpu().numpy()\n",
    "            # fit kde to the sampled actions\n",
    "            kde = KernelDensity(kernel='gaussian', bandwidth=0.1).fit(action_pred_many)\n",
    "            # choose the max likelihood one\n",
    "            log_density = kde.score_samples(action_pred_many)\n",
    "            idx = np.argmax(log_density)\n",
    "            y_pred_ = action_pred_many[idx][None, :]\n",
    "        else:\n",
    "            y_pred_ = model.sample_extra(x_eval, extra_steps=16).detach().cpu().numpy()\n",
    "    \n",
    "    return y_pred_"
   ]
  },
  {
   "cell_type": "code",
   "execution_count": 8,
   "metadata": {},
   "outputs": [],
   "source": [
    "x_eval = (\n",
    "    torch.Tensor(torch_data_train.images[8])\n",
    "    .type(torch.FloatTensor)\n",
    "    .to(device)\n",
    ")"
   ]
  },
  {
   "cell_type": "code",
   "execution_count": 9,
   "metadata": {},
   "outputs": [],
   "source": [
    "x_eval_ = x_eval.repeat(100, 1, 1, 1)"
   ]
  },
  {
   "cell_type": "code",
   "execution_count": 77,
   "metadata": {},
   "outputs": [],
   "source": [
    "y = predict(model, x_eval_)"
   ]
  },
  {
   "cell_type": "code",
   "execution_count": 78,
   "metadata": {},
   "outputs": [],
   "source": [
    "y = y.to_device('cpu')\n",
    "x_eval = x_eval.detach().cpu()"
   ]
  },
  {
   "cell_type": "code",
   "execution_count": 19,
   "metadata": {},
   "outputs": [],
   "source": [
    "it = iter(range(50))"
   ]
  },
  {
   "cell_type": "code",
   "execution_count": 81,
   "metadata": {},
   "outputs": [
    {
     "data": {
      "image/png": "[encoded data removed]",
      "text/plain": [
       "<Figure size 640x480 with 1 Axes>"
      ]
     },
     "metadata": {},
     "output_type": "display_data"
    }
   ],
   "source": [
    "# xp, yp = y[next(it), :]\n",
    "plt.imshow(x_eval)\n",
    "plt.scatter(y[:, 0] * 32, y[:, 1] * 32)\n",
    "# plt.scatter(xp * 32, yp * 32)\n",
    "plt.savefig('plot.png', bbox_inches = 'tight')"
   ]
  },
  {
   "cell_type": "code",
   "execution_count": 2,
   "metadata": {},
   "outputs": [],
   "source": [
    "class LineFollowDataset(Dataset):\n",
    "    def __init__(\n",
    "        self, DATASET_PATH, transform=None, train_or_test=\"train\", train_prop=0.90\n",
    "    ):\n",
    "        self.DATASET_PATH = DATASET_PATH\n",
    "        # just load it all into RAM\n",
    "        self.images = np.load(os.path.join(DATASET_PATH, \"images.npy\"), allow_pickle=True)\n",
    "        self.actions = np.load(os.path.join(DATASET_PATH, \"actions.npy\"), allow_pickle=True)\n",
    "        self.transform = transform\n",
    "        n_train = int(self.actions.shape[0] * train_prop)\n",
    "        if train_or_test == \"train\":\n",
    "            self.actions = self.actions[:n_train]\n",
    "        elif train_or_test == \"test\":\n",
    "            self.actions = self.actions[n_train:]\n",
    "        else:\n",
    "            raise NotImplementedError\n",
    "\n",
    "        # normalise actions and images to range [0,1]\n",
    "        # self.actions = self.actions / 500.0\n",
    "        # self.images = self.images / 255.0\n",
    "\n",
    "    def __len__(self):\n",
    "        return self.actions.shape[0]\n",
    "\n",
    "    def __getitem__(self, index):\n",
    "        action = self.actions[index] \n",
    "        image = self.images[index]\n",
    "        \n",
    "        if self.transform:\n",
    "            image = self.transform(image)\n",
    "        return (image, action)"
   ]
  },
  {
   "cell_type": "code",
   "execution_count": 4,
   "metadata": {},
   "outputs": [],
   "source": [
    "DATASET_PATH = \"datasets/line_follow/\"\n",
    "tf = transforms.Compose([])\n",
    "\n",
    "torch_data_train = LineFollowDataset(\n",
    "        DATASET_PATH, transform=tf, train_or_test=\"train\", train_prop=0.90\n",
    "    )"
   ]
  },
  {
   "cell_type": "code",
   "execution_count": 12,
   "metadata": {},
   "outputs": [],
   "source": [
    "import pickle\n",
    "ids, sts = pickle.load(open(\"datasets/line_follow/starts.pkl\", \"rb\"))\n",
    "ids.insert(0, 0)"
   ]
  },
  {
   "cell_type": "code",
   "execution_count": 54,
   "metadata": {},
   "outputs": [],
   "source": [
    "n = 2"
   ]
  },
  {
   "cell_type": "code",
   "execution_count": 55,
   "metadata": {},
   "outputs": [],
   "source": [
    "preds = []\n",
    "for i in range(sum(ids[:n]), sum(ids[:n+1])):\n",
    "    x_eval = (\n",
    "        torch.Tensor(torch_data_train.images[i])\n",
    "        .type(torch.FloatTensor)\n",
    "        .to(device)\n",
    "    )\n",
    "    x_eval_ = x_eval.repeat(1, 1, 1, 1)\n",
    "    preds.append(np.squeeze(predict(model, x_eval_)))"
   ]
  },
  {
   "cell_type": "code",
   "execution_count": 56,
   "metadata": {},
   "outputs": [],
   "source": [
    "ppts = np.array(preds)\n",
    "pptss = np.cumsum(ppts, axis=0)"
   ]
  },
  {
   "cell_type": "code",
   "execution_count": 27,
   "metadata": {},
   "outputs": [],
   "source": [
    "it = iter(range(84))"
   ]
  },
  {
   "cell_type": "code",
   "execution_count": 57,
   "metadata": {},
   "outputs": [
    {
     "data": {
      "text/plain": [
       "(0.7931310665560887, -0.038802601001225415)"
      ]
     },
     "execution_count": 57,
     "metadata": {},
     "output_type": "execute_result"
    },
    {
     "data": {
      "image/png": "[encoded data removed]",
      "text/plain": [
       "<Figure size 640x480 with 1 Axes>"
      ]
     },
     "metadata": {},
     "output_type": "display_data"
    }
   ],
   "source": [
    "# i = next(it)\n",
    "plt.scatter(pptss[:, 0], pptss[:, 1])\n",
    "ax = plt.gca()\n",
    "ax.set_ylim(ax.get_ylim()[::-1])\n",
    "# plt.plot(pptss[:, 0], pptss[:, 1])\n",
    "# plt.xlim(-0.4, 0.3)\n",
    "# plt.ylim(-0.01, 0.6)"
   ]
  },
  {
   "cell_type": "code",
   "execution_count": 59,
   "metadata": {},
   "outputs": [
    {
     "data": {
      "text/plain": [
       "<matplotlib.image.AxesImage at 0x7f8796c74080>"
      ]
     },
     "execution_count": 59,
     "metadata": {},
     "output_type": "execute_result"
    },
    {
     "data": {
      "image/png": "[encoded data removed]",
      "text/plain": [
       "<Figure size 640x480 with 1 Axes>"
      ]
     },
     "metadata": {},
     "output_type": "display_data"
    }
   ],
   "source": [
    "plt.imshow(torch_data_train.images[sum(ids[:n])])"
   ]
  },
  {
   "cell_type": "code",
   "execution_count": null,
   "metadata": {},
   "outputs": [],
   "source": [
    "fig, a"
   ]
  },
  {
   "cell_type": "code",
   "execution_count": 38,
   "metadata": {},
   "outputs": [],
   "source": [
    "dt = torch_data_train[1]"
   ]
  },
  {
   "cell_type": "code",
   "execution_count": 41,
   "metadata": {},
   "outputs": [],
   "source": [
    "pt = (dt[1] + st[0]) * 32"
   ]
  },
  {
   "cell_type": "code",
   "execution_count": 42,
   "metadata": {},
   "outputs": [
    {
     "data": {
      "text/plain": [
       "array([15.36 ,  3.264])"
      ]
     },
     "execution_count": 42,
     "metadata": {},
     "output_type": "execute_result"
    }
   ],
   "source": [
    "pt"
   ]
  },
  {
   "cell_type": "code",
   "execution_count": 45,
   "metadata": {},
   "outputs": [
    {
     "data": {
      "text/plain": [
       "<matplotlib.collections.PathCollection at 0x7f6c71049010>"
      ]
     },
     "execution_count": 45,
     "metadata": {},
     "output_type": "execute_result"
    },
    {
     "data": {
      "image/png": "[encoded data removed]",
      "text/plain": [
       "<Figure size 640x480 with 1 Axes>"
      ]
     },
     "metadata": {},
     "output_type": "display_data"
    }
   ],
   "source": [
    "plt.imshow(dt[0])\n",
    "plt.scatter(pt[0], pt[1], color='k')"
   ]
  }
 ],
 "metadata": {
  "kernelspec": {
   "display_name": "torchenv",
   "language": "python",
   "name": "python3"
  },
  "language_info": {
   "codemirror_mode": {
    "name": "ipython",
    "version": 3
   },
   "file_extension": ".py",
   "mimetype": "text/x-python",
   "name": "python",
   "nbconvert_exporter": "python",
   "pygments_lexer": "ipython3",
   "version": "3.12.3"
  }
 },
 "nbformat": 4,
 "nbformat_minor": 2
}
